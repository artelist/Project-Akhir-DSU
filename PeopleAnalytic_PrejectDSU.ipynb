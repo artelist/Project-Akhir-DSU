{
  "nbformat": 4,
  "nbformat_minor": 0,
  "metadata": {
    "colab": {
      "name": "PeopleAnalytic_PrejectDSU",
      "provenance": [],
      "authorship_tag": "ABX9TyMyOcFyNWB3NyRnwwTneL2Y",
      "include_colab_link": true
    },
    "kernelspec": {
      "name": "python3",
      "display_name": "Python 3"
    }
  },
  "cells": [
    {
      "cell_type": "markdown",
      "metadata": {
        "id": "view-in-github",
        "colab_type": "text"
      },
      "source": [
        "<a href=\"https://colab.research.google.com/github/artelist/Project-Akhir-DSU/blob/main/PeopleAnalytic_PrejectDSU.ipynb\" target=\"_parent\"><img src=\"https://colab.research.google.com/assets/colab-badge.svg\" alt=\"Open In Colab\"/></a>"
      ]
    },
    {
      "cell_type": "markdown",
      "metadata": {
        "id": "DdDxbk33yE_o"
      },
      "source": [
        "##Overview\r\n",
        "Menggunakan data yang ada, di sini akan diprediksi karyawan yang akan masuk ke dalam golongan best performance dan yang tidak."
      ]
    },
    {
      "cell_type": "markdown",
      "metadata": {
        "id": "bug3_MVHiXr1"
      },
      "source": [
        "##Connect to Google Drive"
      ]
    },
    {
      "cell_type": "code",
      "metadata": {
        "colab": {
          "base_uri": "https://localhost:8080/"
        },
        "id": "_LOm4rn0iNpA",
        "outputId": "fc0de479-6e3b-4415-ad77-4bfd64e65c65"
      },
      "source": [
        "from google.colab import drive\r\n",
        "drive.mount('/content/gdrive')"
      ],
      "execution_count": null,
      "outputs": [
        {
          "output_type": "stream",
          "text": [
            "Drive already mounted at /content/gdrive; to attempt to forcibly remount, call drive.mount(\"/content/gdrive\", force_remount=True).\n"
          ],
          "name": "stdout"
        }
      ]
    },
    {
      "cell_type": "markdown",
      "metadata": {
        "id": "J5T-jS57itHj"
      },
      "source": [
        "##Import Some Library"
      ]
    },
    {
      "cell_type": "code",
      "metadata": {
        "colab": {
          "base_uri": "https://localhost:8080/",
          "height": 35
        },
        "id": "GH7qTNjyirXv",
        "outputId": "e28ba26e-26b0-4040-ba72-79d9346dd0a8"
      },
      "source": [
        "import pandas as pd\r\n",
        "import numpy as np\r\n",
        "from sklearn import metrics\r\n",
        "from sklearn.preprocessing import LabelEncoder\r\n",
        "label_encoder = LabelEncoder()\r\n",
        "'Done'"
      ],
      "execution_count": null,
      "outputs": [
        {
          "output_type": "execute_result",
          "data": {
            "application/vnd.google.colaboratory.intrinsic+json": {
              "type": "string"
            },
            "text/plain": [
              "'Done'"
            ]
          },
          "metadata": {
            "tags": []
          },
          "execution_count": 179
        }
      ]
    },
    {
      "cell_type": "markdown",
      "metadata": {
        "id": "9SoQFT_lkn_E"
      },
      "source": [
        "##Import Dataset"
      ]
    },
    {
      "cell_type": "code",
      "metadata": {
        "colab": {
          "base_uri": "https://localhost:8080/",
          "height": 258
        },
        "id": "EI99BgRRkrPB",
        "outputId": "0a02cd04-cc83-409d-92ba-653330af3968"
      },
      "source": [
        "data_train = pd.read_csv('/content/gdrive/My Drive/BRI_algoritma/train.csv')\r\n",
        "print(data_train.shape)\r\n",
        "data=data_train.copy()\r\n",
        "data.head()"
      ],
      "execution_count": null,
      "outputs": [
        {
          "output_type": "stream",
          "text": [
            "(11153, 22)\n"
          ],
          "name": "stdout"
        },
        {
          "output_type": "execute_result",
          "data": {
            "text/html": [
              "<div>\n",
              "<style scoped>\n",
              "    .dataframe tbody tr th:only-of-type {\n",
              "        vertical-align: middle;\n",
              "    }\n",
              "\n",
              "    .dataframe tbody tr th {\n",
              "        vertical-align: top;\n",
              "    }\n",
              "\n",
              "    .dataframe thead th {\n",
              "        text-align: right;\n",
              "    }\n",
              "</style>\n",
              "<table border=\"1\" class=\"dataframe\">\n",
              "  <thead>\n",
              "    <tr style=\"text-align: right;\">\n",
              "      <th></th>\n",
              "      <th>job_level</th>\n",
              "      <th>job_duration_in_current_job_level</th>\n",
              "      <th>person_level</th>\n",
              "      <th>job_duration_in_current_person_level</th>\n",
              "      <th>job_duration_in_current_branch</th>\n",
              "      <th>Employee_type</th>\n",
              "      <th>gender</th>\n",
              "      <th>age</th>\n",
              "      <th>marital_status_maried(Y/N)</th>\n",
              "      <th>number_of_dependences</th>\n",
              "      <th>Education_level</th>\n",
              "      <th>GPA</th>\n",
              "      <th>year_graduated</th>\n",
              "      <th>job_duration_from_training</th>\n",
              "      <th>branch_rotation</th>\n",
              "      <th>job_rotation</th>\n",
              "      <th>assign_of_otherposition</th>\n",
              "      <th>annual leave</th>\n",
              "      <th>sick_leaves</th>\n",
              "      <th>Last_achievement_%</th>\n",
              "      <th>Achievement_above_100%_during3quartal</th>\n",
              "      <th>Best Performance</th>\n",
              "    </tr>\n",
              "  </thead>\n",
              "  <tbody>\n",
              "    <tr>\n",
              "      <th>0</th>\n",
              "      <td>JG04</td>\n",
              "      <td>1.352775</td>\n",
              "      <td>PG03</td>\n",
              "      <td>1.352775</td>\n",
              "      <td>1.732051</td>\n",
              "      <td>RM_type_A</td>\n",
              "      <td>2</td>\n",
              "      <td>1985</td>\n",
              "      <td>Y</td>\n",
              "      <td>1</td>\n",
              "      <td>level_0</td>\n",
              "      <td>2.86</td>\n",
              "      <td>2011</td>\n",
              "      <td>4</td>\n",
              "      <td>2</td>\n",
              "      <td>3</td>\n",
              "      <td>2</td>\n",
              "      <td>3</td>\n",
              "      <td>0</td>\n",
              "      <td>46.37</td>\n",
              "      <td>0.0</td>\n",
              "      <td>0</td>\n",
              "    </tr>\n",
              "    <tr>\n",
              "      <th>1</th>\n",
              "      <td>JG04</td>\n",
              "      <td>1.292285</td>\n",
              "      <td>PG03</td>\n",
              "      <td>1.292285</td>\n",
              "      <td>1.039230</td>\n",
              "      <td>RM_type_A</td>\n",
              "      <td>2</td>\n",
              "      <td>1989</td>\n",
              "      <td>Y</td>\n",
              "      <td>0</td>\n",
              "      <td>level_1</td>\n",
              "      <td>7.28</td>\n",
              "      <td>2007</td>\n",
              "      <td>4</td>\n",
              "      <td>4</td>\n",
              "      <td>3</td>\n",
              "      <td>0</td>\n",
              "      <td>0</td>\n",
              "      <td>1</td>\n",
              "      <td>47.68</td>\n",
              "      <td>0.0</td>\n",
              "      <td>0</td>\n",
              "    </tr>\n",
              "    <tr>\n",
              "      <th>2</th>\n",
              "      <td>JG05</td>\n",
              "      <td>2.565151</td>\n",
              "      <td>PG06</td>\n",
              "      <td>2.308679</td>\n",
              "      <td>1.780449</td>\n",
              "      <td>RM_type_C</td>\n",
              "      <td>1</td>\n",
              "      <td>1970</td>\n",
              "      <td>Y</td>\n",
              "      <td>1</td>\n",
              "      <td>level_1</td>\n",
              "      <td>0.00</td>\n",
              "      <td>1989</td>\n",
              "      <td>28</td>\n",
              "      <td>10</td>\n",
              "      <td>9</td>\n",
              "      <td>6</td>\n",
              "      <td>2</td>\n",
              "      <td>1</td>\n",
              "      <td>40.73</td>\n",
              "      <td>0.0</td>\n",
              "      <td>0</td>\n",
              "    </tr>\n",
              "    <tr>\n",
              "      <th>3</th>\n",
              "      <td>JG05</td>\n",
              "      <td>2.828427</td>\n",
              "      <td>PG06</td>\n",
              "      <td>1.000000</td>\n",
              "      <td>1.385641</td>\n",
              "      <td>RM_type_A</td>\n",
              "      <td>2</td>\n",
              "      <td>1967</td>\n",
              "      <td>Y</td>\n",
              "      <td>2</td>\n",
              "      <td>level_1</td>\n",
              "      <td>0.00</td>\n",
              "      <td>1987</td>\n",
              "      <td>29</td>\n",
              "      <td>11</td>\n",
              "      <td>6</td>\n",
              "      <td>0</td>\n",
              "      <td>4</td>\n",
              "      <td>10</td>\n",
              "      <td>47.42</td>\n",
              "      <td>0.0</td>\n",
              "      <td>1</td>\n",
              "    </tr>\n",
              "    <tr>\n",
              "      <th>4</th>\n",
              "      <td>JG05</td>\n",
              "      <td>2.828427</td>\n",
              "      <td>PG06</td>\n",
              "      <td>2.828427</td>\n",
              "      <td>0.707107</td>\n",
              "      <td>RM_type_A</td>\n",
              "      <td>2</td>\n",
              "      <td>1965</td>\n",
              "      <td>Y</td>\n",
              "      <td>3</td>\n",
              "      <td>level_1</td>\n",
              "      <td>7.20</td>\n",
              "      <td>1985</td>\n",
              "      <td>30</td>\n",
              "      <td>9</td>\n",
              "      <td>8</td>\n",
              "      <td>2</td>\n",
              "      <td>3</td>\n",
              "      <td>0</td>\n",
              "      <td>47.18</td>\n",
              "      <td>0.0</td>\n",
              "      <td>0</td>\n",
              "    </tr>\n",
              "  </tbody>\n",
              "</table>\n",
              "</div>"
            ],
            "text/plain": [
              "  job_level  ...  Best Performance\n",
              "0      JG04  ...                 0\n",
              "1      JG04  ...                 0\n",
              "2      JG05  ...                 0\n",
              "3      JG05  ...                 1\n",
              "4      JG05  ...                 0\n",
              "\n",
              "[5 rows x 22 columns]"
            ]
          },
          "metadata": {
            "tags": []
          },
          "execution_count": 180
        }
      ]
    },
    {
      "cell_type": "markdown",
      "metadata": {
        "id": "tKpg9DwTlb8F"
      },
      "source": [
        "Data di atas memiliki 22 kolom dan 11153 baris, dengan deskripsi label sebagai berikut:\r\n",
        "*   job_level : level jabatan pekerja\r\n",
        "*   job_duration_in_current_job_level : Masa Kerja pada job level saat ini\r\n",
        "*   person_level\t: Level personal Pekerja\r\n",
        "*   job_duration_in_current_person_level : Masa Kerja pada person level saat ini\r\n",
        "*   job_duration_in_current_branch : Masa Kerja pada unit kerja saat ini\r\n",
        "*   Employee_type : Tipe Pekerja\r\n",
        "*   gender : Jenis Kelamin\r\n",
        "*   age\t: Usia(Tahun Kelahiran)\r\n",
        "*   marital_status_maried(Y/N)\t: Status Pernikahan (Y / N)\r\n",
        "*   number_of_dependences : Jumlah anak dalam tanggungan\r\n",
        "*   Education_level\t: Tingkat pendidikan\r\n",
        "*   GPA : IPK\r\n",
        "*   year_graduated : Tahun lulus\r\n",
        "*   job_duration_from_training : lama bekerja mulai dari training\r\n",
        "*   branch_rotation\t: Jumlah rotasi pindah unit kerja\r\n",
        "*   job_rotation : Jumlah rotasi pindah jabatan\r\n",
        "*   assign_of_otherposition : jumlah rotasi penugasan\r\n",
        "*   annual leave : jumlah cuti tahunan\r\n",
        "*   sick_leaves\t: jumlah izin sakit\r\n",
        "*   Last_achievement_%\t: presentase pencapaian triwulan terakhir terhadap target\r\n",
        "*   Achievement_above_100%_during3quartal : Jumlah pencapaian diatas 100% dalam 3 tahun terkahir\r\n",
        "*   Best Performance : Termasuk dalam best performance (1/0)\r\n",
        "\r\n",
        "\r\n",
        "\r\n",
        "\r\n",
        "\r\n",
        "\r\n",
        "\r\n",
        "\r\n"
      ]
    },
    {
      "cell_type": "markdown",
      "metadata": {
        "id": "8Hhd-cZN0V0i"
      },
      "source": [
        "## Preprocessing"
      ]
    },
    {
      "cell_type": "markdown",
      "metadata": {
        "id": "rcWG8nrR2BPW"
      },
      "source": [
        "###Replace space in Label with Underscore\r\n",
        "karena terdapat spasi pada label yang tidak akan bisa diproses lebih lanjut, maka perlu diganti dengan uderscore \"_\""
      ]
    },
    {
      "cell_type": "code",
      "metadata": {
        "id": "5neq7WJn2LDU"
      },
      "source": [
        "data_train.columns = data_train.columns.str.replace(\" \", \"_\")"
      ],
      "execution_count": null,
      "outputs": []
    },
    {
      "cell_type": "markdown",
      "metadata": {
        "id": "5fD2dbWt0cmi"
      },
      "source": [
        "###Check for Missing Value"
      ]
    },
    {
      "cell_type": "code",
      "metadata": {
        "colab": {
          "base_uri": "https://localhost:8080/"
        },
        "id": "GsM3kY6jqPWg",
        "outputId": "a315f88e-5438-4f73-ba24-9caf45bfd145"
      },
      "source": [
        "data_train.isnull().sum()"
      ],
      "execution_count": null,
      "outputs": [
        {
          "output_type": "execute_result",
          "data": {
            "text/plain": [
              "job_level                                0\n",
              "job_duration_in_current_job_level        0\n",
              "person_level                             0\n",
              "job_duration_in_current_person_level     0\n",
              "job_duration_in_current_branch           0\n",
              "Employee_type                            0\n",
              "gender                                   0\n",
              "age                                      0\n",
              "marital_status_maried(Y/N)               0\n",
              "number_of_dependences                    0\n",
              "Education_level                          0\n",
              "GPA                                      0\n",
              "year_graduated                           0\n",
              "job_duration_from_training               0\n",
              "branch_rotation                          0\n",
              "job_rotation                             0\n",
              "assign_of_otherposition                  0\n",
              "annual_leave                             0\n",
              "sick_leaves                              0\n",
              "Last_achievement_%                       1\n",
              "Achievement_above_100%_during3quartal    1\n",
              "Best_Performance                         0\n",
              "dtype: int64"
            ]
          },
          "metadata": {
            "tags": []
          },
          "execution_count": 182
        }
      ]
    },
    {
      "cell_type": "markdown",
      "metadata": {
        "id": "gqIRJEnP0sgR"
      },
      "source": [
        "Karena hanya terdapat 1 missing value pada kolom **Last_achievement_% dan Achievement_above_100%_during3quartal**, maka hanya perlu dihapus pada baris yang terdapat nilai kosong"
      ]
    },
    {
      "cell_type": "code",
      "metadata": {
        "id": "S_ouHRQ-1Akg"
      },
      "source": [
        "data_train = data_train.dropna()"
      ],
      "execution_count": null,
      "outputs": []
    },
    {
      "cell_type": "markdown",
      "metadata": {
        "id": "ADiV58-X4ckm"
      },
      "source": [
        "###Feature Selection\r\n",
        "Karena terdapat banyak fitur yang mungkin tidak semuanya bisa terpakai, maka perlu dilakukan feature selection. Feature selection dapat membuat model berjalan lebih cepat dan juga bisa menambah akurasi"
      ]
    },
    {
      "cell_type": "markdown",
      "metadata": {
        "id": "AMhk0iZ1ZXOq"
      },
      "source": [
        "####Feature Selection Manual"
      ]
    },
    {
      "cell_type": "markdown",
      "metadata": {
        "id": "0rtebviFZ81T"
      },
      "source": [
        "Feature usia akan dihapus karena jenis usia pekerja tidak berpengaruh terhadap performa pekerja"
      ]
    },
    {
      "cell_type": "code",
      "metadata": {
        "id": "IsRBhI9pZaq_"
      },
      "source": [
        "data_train = data_train.drop(['age'], axis = 1).copy()"
      ],
      "execution_count": null,
      "outputs": []
    },
    {
      "cell_type": "markdown",
      "metadata": {
        "id": "tU9zz581ZQq8"
      },
      "source": [
        "####Feature Selection with Correlation"
      ]
    },
    {
      "cell_type": "markdown",
      "metadata": {
        "id": "JH6HiipVaVNN"
      },
      "source": [
        "Korelasi yang tinggi antar feature dapat menyebabkan redudansi data, maka dari itu perlu dihapus feature yang memiliki korelasi yang tinggi"
      ]
    },
    {
      "cell_type": "code",
      "metadata": {
        "colab": {
          "base_uri": "https://localhost:8080/"
        },
        "id": "ZMGzsvRW4uZ3",
        "outputId": "e27c3271-cb8d-4f82-c1db-f3a045cdb3bf"
      },
      "source": [
        "#Menghitung korelasi antar feature\r\n",
        "corr_matrix_train = data_train.corr().abs()\r\n",
        "upper_train = corr_matrix_train.where(np.triu(np.ones(corr_matrix_train.shape), k=1).astype(np.bool))\r\n",
        "upper_train"
      ],
      "execution_count": null,
      "outputs": [
        {
          "output_type": "execute_result",
          "data": {
            "text/html": [
              "<div>\n",
              "<style scoped>\n",
              "    .dataframe tbody tr th:only-of-type {\n",
              "        vertical-align: middle;\n",
              "    }\n",
              "\n",
              "    .dataframe tbody tr th {\n",
              "        vertical-align: top;\n",
              "    }\n",
              "\n",
              "    .dataframe thead th {\n",
              "        text-align: right;\n",
              "    }\n",
              "</style>\n",
              "<table border=\"1\" class=\"dataframe\">\n",
              "  <thead>\n",
              "    <tr style=\"text-align: right;\">\n",
              "      <th></th>\n",
              "      <th>job_duration_in_current_job_level</th>\n",
              "      <th>job_duration_in_current_person_level</th>\n",
              "      <th>job_duration_in_current_branch</th>\n",
              "      <th>gender</th>\n",
              "      <th>number_of_dependences</th>\n",
              "      <th>GPA</th>\n",
              "      <th>year_graduated</th>\n",
              "      <th>job_duration_from_training</th>\n",
              "      <th>branch_rotation</th>\n",
              "      <th>job_rotation</th>\n",
              "      <th>assign_of_otherposition</th>\n",
              "      <th>annual_leave</th>\n",
              "      <th>sick_leaves</th>\n",
              "      <th>Last_achievement_%</th>\n",
              "      <th>Achievement_above_100%_during3quartal</th>\n",
              "      <th>Best_Performance</th>\n",
              "    </tr>\n",
              "  </thead>\n",
              "  <tbody>\n",
              "    <tr>\n",
              "      <th>job_duration_in_current_job_level</th>\n",
              "      <td>NaN</td>\n",
              "      <td>0.736834</td>\n",
              "      <td>0.028188</td>\n",
              "      <td>0.057609</td>\n",
              "      <td>0.306083</td>\n",
              "      <td>0.048272</td>\n",
              "      <td>0.537754</td>\n",
              "      <td>0.679284</td>\n",
              "      <td>0.585003</td>\n",
              "      <td>0.505521</td>\n",
              "      <td>0.175024</td>\n",
              "      <td>0.037902</td>\n",
              "      <td>0.012061</td>\n",
              "      <td>0.093502</td>\n",
              "      <td>0.061873</td>\n",
              "      <td>0.006956</td>\n",
              "    </tr>\n",
              "    <tr>\n",
              "      <th>job_duration_in_current_person_level</th>\n",
              "      <td>NaN</td>\n",
              "      <td>NaN</td>\n",
              "      <td>0.022649</td>\n",
              "      <td>0.024712</td>\n",
              "      <td>0.197469</td>\n",
              "      <td>0.017789</td>\n",
              "      <td>0.317804</td>\n",
              "      <td>0.441081</td>\n",
              "      <td>0.313993</td>\n",
              "      <td>0.237237</td>\n",
              "      <td>0.110512</td>\n",
              "      <td>0.014885</td>\n",
              "      <td>0.004202</td>\n",
              "      <td>0.055478</td>\n",
              "      <td>0.025667</td>\n",
              "      <td>0.016152</td>\n",
              "    </tr>\n",
              "    <tr>\n",
              "      <th>job_duration_in_current_branch</th>\n",
              "      <td>NaN</td>\n",
              "      <td>NaN</td>\n",
              "      <td>NaN</td>\n",
              "      <td>0.021901</td>\n",
              "      <td>0.033114</td>\n",
              "      <td>0.012766</td>\n",
              "      <td>0.033393</td>\n",
              "      <td>0.037371</td>\n",
              "      <td>0.127912</td>\n",
              "      <td>0.057724</td>\n",
              "      <td>0.016362</td>\n",
              "      <td>0.020118</td>\n",
              "      <td>0.008228</td>\n",
              "      <td>0.007679</td>\n",
              "      <td>0.013654</td>\n",
              "      <td>0.017272</td>\n",
              "    </tr>\n",
              "    <tr>\n",
              "      <th>gender</th>\n",
              "      <td>NaN</td>\n",
              "      <td>NaN</td>\n",
              "      <td>NaN</td>\n",
              "      <td>NaN</td>\n",
              "      <td>0.057226</td>\n",
              "      <td>0.022552</td>\n",
              "      <td>0.129231</td>\n",
              "      <td>0.135502</td>\n",
              "      <td>0.091795</td>\n",
              "      <td>0.112925</td>\n",
              "      <td>0.020211</td>\n",
              "      <td>0.075754</td>\n",
              "      <td>0.105102</td>\n",
              "      <td>0.005576</td>\n",
              "      <td>0.007694</td>\n",
              "      <td>0.019112</td>\n",
              "    </tr>\n",
              "    <tr>\n",
              "      <th>number_of_dependences</th>\n",
              "      <td>NaN</td>\n",
              "      <td>NaN</td>\n",
              "      <td>NaN</td>\n",
              "      <td>NaN</td>\n",
              "      <td>NaN</td>\n",
              "      <td>0.030370</td>\n",
              "      <td>0.427626</td>\n",
              "      <td>0.434774</td>\n",
              "      <td>0.385596</td>\n",
              "      <td>0.355425</td>\n",
              "      <td>0.147813</td>\n",
              "      <td>0.011528</td>\n",
              "      <td>0.005325</td>\n",
              "      <td>0.132893</td>\n",
              "      <td>0.086238</td>\n",
              "      <td>0.010010</td>\n",
              "    </tr>\n",
              "    <tr>\n",
              "      <th>GPA</th>\n",
              "      <td>NaN</td>\n",
              "      <td>NaN</td>\n",
              "      <td>NaN</td>\n",
              "      <td>NaN</td>\n",
              "      <td>NaN</td>\n",
              "      <td>NaN</td>\n",
              "      <td>0.036071</td>\n",
              "      <td>0.070070</td>\n",
              "      <td>0.055007</td>\n",
              "      <td>0.055922</td>\n",
              "      <td>0.020251</td>\n",
              "      <td>0.001688</td>\n",
              "      <td>0.000092</td>\n",
              "      <td>0.022809</td>\n",
              "      <td>0.023948</td>\n",
              "      <td>0.007743</td>\n",
              "    </tr>\n",
              "    <tr>\n",
              "      <th>year_graduated</th>\n",
              "      <td>NaN</td>\n",
              "      <td>NaN</td>\n",
              "      <td>NaN</td>\n",
              "      <td>NaN</td>\n",
              "      <td>NaN</td>\n",
              "      <td>NaN</td>\n",
              "      <td>NaN</td>\n",
              "      <td>0.769680</td>\n",
              "      <td>0.687912</td>\n",
              "      <td>0.631226</td>\n",
              "      <td>0.198695</td>\n",
              "      <td>0.031380</td>\n",
              "      <td>0.014329</td>\n",
              "      <td>0.157540</td>\n",
              "      <td>0.099047</td>\n",
              "      <td>0.008470</td>\n",
              "    </tr>\n",
              "    <tr>\n",
              "      <th>job_duration_from_training</th>\n",
              "      <td>NaN</td>\n",
              "      <td>NaN</td>\n",
              "      <td>NaN</td>\n",
              "      <td>NaN</td>\n",
              "      <td>NaN</td>\n",
              "      <td>NaN</td>\n",
              "      <td>NaN</td>\n",
              "      <td>NaN</td>\n",
              "      <td>0.848069</td>\n",
              "      <td>0.779423</td>\n",
              "      <td>0.222398</td>\n",
              "      <td>0.027693</td>\n",
              "      <td>0.019904</td>\n",
              "      <td>0.140839</td>\n",
              "      <td>0.091092</td>\n",
              "      <td>0.019219</td>\n",
              "    </tr>\n",
              "    <tr>\n",
              "      <th>branch_rotation</th>\n",
              "      <td>NaN</td>\n",
              "      <td>NaN</td>\n",
              "      <td>NaN</td>\n",
              "      <td>NaN</td>\n",
              "      <td>NaN</td>\n",
              "      <td>NaN</td>\n",
              "      <td>NaN</td>\n",
              "      <td>NaN</td>\n",
              "      <td>NaN</td>\n",
              "      <td>0.792472</td>\n",
              "      <td>0.229420</td>\n",
              "      <td>0.033653</td>\n",
              "      <td>0.020026</td>\n",
              "      <td>0.121915</td>\n",
              "      <td>0.070964</td>\n",
              "      <td>0.016067</td>\n",
              "    </tr>\n",
              "    <tr>\n",
              "      <th>job_rotation</th>\n",
              "      <td>NaN</td>\n",
              "      <td>NaN</td>\n",
              "      <td>NaN</td>\n",
              "      <td>NaN</td>\n",
              "      <td>NaN</td>\n",
              "      <td>NaN</td>\n",
              "      <td>NaN</td>\n",
              "      <td>NaN</td>\n",
              "      <td>NaN</td>\n",
              "      <td>NaN</td>\n",
              "      <td>0.199307</td>\n",
              "      <td>0.008093</td>\n",
              "      <td>0.023929</td>\n",
              "      <td>0.145993</td>\n",
              "      <td>0.113158</td>\n",
              "      <td>0.007721</td>\n",
              "    </tr>\n",
              "    <tr>\n",
              "      <th>assign_of_otherposition</th>\n",
              "      <td>NaN</td>\n",
              "      <td>NaN</td>\n",
              "      <td>NaN</td>\n",
              "      <td>NaN</td>\n",
              "      <td>NaN</td>\n",
              "      <td>NaN</td>\n",
              "      <td>NaN</td>\n",
              "      <td>NaN</td>\n",
              "      <td>NaN</td>\n",
              "      <td>NaN</td>\n",
              "      <td>NaN</td>\n",
              "      <td>0.009570</td>\n",
              "      <td>0.024411</td>\n",
              "      <td>0.097550</td>\n",
              "      <td>0.080564</td>\n",
              "      <td>0.007285</td>\n",
              "    </tr>\n",
              "    <tr>\n",
              "      <th>annual_leave</th>\n",
              "      <td>NaN</td>\n",
              "      <td>NaN</td>\n",
              "      <td>NaN</td>\n",
              "      <td>NaN</td>\n",
              "      <td>NaN</td>\n",
              "      <td>NaN</td>\n",
              "      <td>NaN</td>\n",
              "      <td>NaN</td>\n",
              "      <td>NaN</td>\n",
              "      <td>NaN</td>\n",
              "      <td>NaN</td>\n",
              "      <td>NaN</td>\n",
              "      <td>0.049725</td>\n",
              "      <td>0.024709</td>\n",
              "      <td>0.019968</td>\n",
              "      <td>0.010289</td>\n",
              "    </tr>\n",
              "    <tr>\n",
              "      <th>sick_leaves</th>\n",
              "      <td>NaN</td>\n",
              "      <td>NaN</td>\n",
              "      <td>NaN</td>\n",
              "      <td>NaN</td>\n",
              "      <td>NaN</td>\n",
              "      <td>NaN</td>\n",
              "      <td>NaN</td>\n",
              "      <td>NaN</td>\n",
              "      <td>NaN</td>\n",
              "      <td>NaN</td>\n",
              "      <td>NaN</td>\n",
              "      <td>NaN</td>\n",
              "      <td>NaN</td>\n",
              "      <td>0.041410</td>\n",
              "      <td>0.030853</td>\n",
              "      <td>0.011410</td>\n",
              "    </tr>\n",
              "    <tr>\n",
              "      <th>Last_achievement_%</th>\n",
              "      <td>NaN</td>\n",
              "      <td>NaN</td>\n",
              "      <td>NaN</td>\n",
              "      <td>NaN</td>\n",
              "      <td>NaN</td>\n",
              "      <td>NaN</td>\n",
              "      <td>NaN</td>\n",
              "      <td>NaN</td>\n",
              "      <td>NaN</td>\n",
              "      <td>NaN</td>\n",
              "      <td>NaN</td>\n",
              "      <td>NaN</td>\n",
              "      <td>NaN</td>\n",
              "      <td>NaN</td>\n",
              "      <td>0.733080</td>\n",
              "      <td>0.012643</td>\n",
              "    </tr>\n",
              "    <tr>\n",
              "      <th>Achievement_above_100%_during3quartal</th>\n",
              "      <td>NaN</td>\n",
              "      <td>NaN</td>\n",
              "      <td>NaN</td>\n",
              "      <td>NaN</td>\n",
              "      <td>NaN</td>\n",
              "      <td>NaN</td>\n",
              "      <td>NaN</td>\n",
              "      <td>NaN</td>\n",
              "      <td>NaN</td>\n",
              "      <td>NaN</td>\n",
              "      <td>NaN</td>\n",
              "      <td>NaN</td>\n",
              "      <td>NaN</td>\n",
              "      <td>NaN</td>\n",
              "      <td>NaN</td>\n",
              "      <td>0.004723</td>\n",
              "    </tr>\n",
              "    <tr>\n",
              "      <th>Best_Performance</th>\n",
              "      <td>NaN</td>\n",
              "      <td>NaN</td>\n",
              "      <td>NaN</td>\n",
              "      <td>NaN</td>\n",
              "      <td>NaN</td>\n",
              "      <td>NaN</td>\n",
              "      <td>NaN</td>\n",
              "      <td>NaN</td>\n",
              "      <td>NaN</td>\n",
              "      <td>NaN</td>\n",
              "      <td>NaN</td>\n",
              "      <td>NaN</td>\n",
              "      <td>NaN</td>\n",
              "      <td>NaN</td>\n",
              "      <td>NaN</td>\n",
              "      <td>NaN</td>\n",
              "    </tr>\n",
              "  </tbody>\n",
              "</table>\n",
              "</div>"
            ],
            "text/plain": [
              "                                       job_duration_in_current_job_level  ...  Best_Performance\n",
              "job_duration_in_current_job_level                                    NaN  ...          0.006956\n",
              "job_duration_in_current_person_level                                 NaN  ...          0.016152\n",
              "job_duration_in_current_branch                                       NaN  ...          0.017272\n",
              "gender                                                               NaN  ...          0.019112\n",
              "number_of_dependences                                                NaN  ...          0.010010\n",
              "GPA                                                                  NaN  ...          0.007743\n",
              "year_graduated                                                       NaN  ...          0.008470\n",
              "job_duration_from_training                                           NaN  ...          0.019219\n",
              "branch_rotation                                                      NaN  ...          0.016067\n",
              "job_rotation                                                         NaN  ...          0.007721\n",
              "assign_of_otherposition                                              NaN  ...          0.007285\n",
              "annual_leave                                                         NaN  ...          0.010289\n",
              "sick_leaves                                                          NaN  ...          0.011410\n",
              "Last_achievement_%                                                   NaN  ...          0.012643\n",
              "Achievement_above_100%_during3quartal                                NaN  ...          0.004723\n",
              "Best_Performance                                                     NaN  ...               NaN\n",
              "\n",
              "[16 rows x 16 columns]"
            ]
          },
          "metadata": {
            "tags": []
          },
          "execution_count": 185
        }
      ]
    },
    {
      "cell_type": "code",
      "metadata": {
        "colab": {
          "base_uri": "https://localhost:8080/"
        },
        "id": "NGqE3BFR6uhu",
        "outputId": "61e6686c-a759-4d5c-9762-b075a73dd5d0"
      },
      "source": [
        "#temukan feature dengan correlation diatas 0.7\r\n",
        "to_drop = [column for column in upper_train.columns if any(upper_train[column] > 0.7)]\r\n",
        "for ls in to_drop:\r\n",
        "    data_train=data_train.drop([ls],axis=1)\r\n",
        "print(\"Data shape sebelum feature selection :\",data.shape)\r\n",
        "print(\"Data shape sesudah feature selection :\", data_train.shape)"
      ],
      "execution_count": null,
      "outputs": [
        {
          "output_type": "stream",
          "text": [
            "Data shape sebelum feature selection : (11153, 22)\n",
            "Data shape sesudah feature selection : (11152, 16)\n"
          ],
          "name": "stdout"
        }
      ]
    },
    {
      "cell_type": "markdown",
      "metadata": {
        "id": "Wya9EnS6_B08"
      },
      "source": [
        "###Imbalance Learning\r\n",
        "Akan dilakukan pengecekan terhadap jumlah value 0 dan 1 pada feature **Best Performance**"
      ]
    },
    {
      "cell_type": "code",
      "metadata": {
        "colab": {
          "base_uri": "https://localhost:8080/",
          "height": 329
        },
        "id": "QU-C4-Lm63n0",
        "outputId": "520500b0-9cb3-4e2c-9bc2-3198b1612343"
      },
      "source": [
        "print(data_train.Best_Performance.value_counts())\r\n",
        "data_train.Best_Performance.value_counts().plot(kind='bar', title='Count (target)');"
      ],
      "execution_count": null,
      "outputs": [
        {
          "output_type": "stream",
          "text": [
            "0    9515\n",
            "1    1637\n",
            "Name: Best_Performance, dtype: int64\n"
          ],
          "name": "stdout"
        },
        {
          "output_type": "display_data",
          "data": {
            "image/png": "[encoded data removed]",
            "text/plain": [
              "<Figure size 432x288 with 1 Axes>"
            ]
          },
          "metadata": {
            "tags": [],
            "needs_background": "light"
          }
        }
      ]
    },
    {
      "cell_type": "markdown",
      "metadata": {
        "id": "-emKK6-b_c4o"
      },
      "source": [
        "Dari gambar di atas terlihat bahwa terdapat selisih yang sangat besar terhadap class 0 dan 1.\r\n",
        "Maka dari itu perlu dilakukan balancing data agar data yang ditrain dapat berjalan dengan adil, tidak terlalu banyak ditrain pada data yang memiliki class mayor."
      ]
    },
    {
      "cell_type": "code",
      "metadata": {
        "colab": {
          "base_uri": "https://localhost:8080/",
          "height": 346
        },
        "id": "Q_y4GluDAEXy",
        "outputId": "5ab7d48b-416d-4dbd-f9f0-1f86fabc7f2c"
      },
      "source": [
        "# Menghitung class 0 dan 1 di feature Best Performance\r\n",
        "count_class_0, count_class_1 = data_train.Best_Performance.value_counts()\r\n",
        "\r\n",
        "# Dibagi berdasarkan class\r\n",
        "class_0 = data_train[data_train.Best_Performance == 0]\r\n",
        "class_1 = data_train[data_train.Best_Performance == 1]\r\n",
        "\r\n",
        "df_class_0_under = class_0.sample(count_class_1, random_state = 0)\r\n",
        "df_test_under = pd.concat([df_class_0_under, class_1], axis=0)\r\n",
        "\r\n",
        "print('Random under-sampling:')\r\n",
        "print(df_test_under.Best_Performance.value_counts())\r\n",
        "\r\n",
        "df_test_under.Best_Performance.value_counts().plot(kind='bar', title='Count (target)');"
      ],
      "execution_count": null,
      "outputs": [
        {
          "output_type": "stream",
          "text": [
            "Random under-sampling:\n",
            "1    1637\n",
            "0    1637\n",
            "Name: Best_Performance, dtype: int64\n"
          ],
          "name": "stdout"
        },
        {
          "output_type": "display_data",
          "data": {
            "image/png": "[encoded data removed]",
            "text/plain": [
              "<Figure size 432x288 with 1 Axes>"
            ]
          },
          "metadata": {
            "tags": [],
            "needs_background": "light"
          }
        }
      ]
    },
    {
      "cell_type": "markdown",
      "metadata": {
        "id": "GPUSx02fXOne"
      },
      "source": [
        "##Mengubah Feature dengan Tipe Data Kategori Menjadi Data Dummy"
      ]
    },
    {
      "cell_type": "code",
      "metadata": {
        "colab": {
          "base_uri": "https://localhost:8080/",
          "height": 224
        },
        "id": "3tBm8SlZW27s",
        "outputId": "b1ca49f9-4ab8-4c3f-e74e-072578de1a97"
      },
      "source": [
        "Y = df_test_under.Best_Performance.copy()\r\n",
        "X = df_test_under.drop(['Best_Performance'], axis = 1).copy()\r\n",
        "\r\n",
        "num_col = [i for i in X.columns if X[i].dtypes != 'object']\r\n",
        "cat_col = [i for i in X.columns if X[i].dtypes == 'object']\r\n",
        "\r\n",
        "X = pd.get_dummies(X, columns = cat_col)\r\n",
        "X.head()"
      ],
      "execution_count": null,
      "outputs": [
        {
          "output_type": "execute_result",
          "data": {
            "text/html": [
              "<div>\n",
              "<style scoped>\n",
              "    .dataframe tbody tr th:only-of-type {\n",
              "        vertical-align: middle;\n",
              "    }\n",
              "\n",
              "    .dataframe tbody tr th {\n",
              "        vertical-align: top;\n",
              "    }\n",
              "\n",
              "    .dataframe thead th {\n",
              "        text-align: right;\n",
              "    }\n",
              "</style>\n",
              "<table border=\"1\" class=\"dataframe\">\n",
              "  <thead>\n",
              "    <tr style=\"text-align: right;\">\n",
              "      <th></th>\n",
              "      <th>job_duration_in_current_job_level</th>\n",
              "      <th>job_duration_in_current_branch</th>\n",
              "      <th>gender</th>\n",
              "      <th>number_of_dependences</th>\n",
              "      <th>GPA</th>\n",
              "      <th>year_graduated</th>\n",
              "      <th>assign_of_otherposition</th>\n",
              "      <th>annual_leave</th>\n",
              "      <th>sick_leaves</th>\n",
              "      <th>Last_achievement_%</th>\n",
              "      <th>job_level_JG03</th>\n",
              "      <th>job_level_JG04</th>\n",
              "      <th>job_level_JG05</th>\n",
              "      <th>person_level_PG01</th>\n",
              "      <th>person_level_PG02</th>\n",
              "      <th>person_level_PG03</th>\n",
              "      <th>person_level_PG04</th>\n",
              "      <th>person_level_PG05</th>\n",
              "      <th>person_level_PG06</th>\n",
              "      <th>person_level_PG07</th>\n",
              "      <th>person_level_PG08</th>\n",
              "      <th>Employee_type_RM_type_A</th>\n",
              "      <th>Employee_type_RM_type_B</th>\n",
              "      <th>Employee_type_RM_type_C</th>\n",
              "      <th>marital_status_maried(Y/N)_N</th>\n",
              "      <th>marital_status_maried(Y/N)_Y</th>\n",
              "      <th>Education_level_level_1</th>\n",
              "      <th>Education_level_level_3</th>\n",
              "      <th>Education_level_level_4</th>\n",
              "      <th>Education_level_level_5</th>\n",
              "    </tr>\n",
              "  </thead>\n",
              "  <tbody>\n",
              "    <tr>\n",
              "      <th>9968</th>\n",
              "      <td>1.224745</td>\n",
              "      <td>0.707107</td>\n",
              "      <td>1</td>\n",
              "      <td>2</td>\n",
              "      <td>2.96</td>\n",
              "      <td>2007</td>\n",
              "      <td>4</td>\n",
              "      <td>3</td>\n",
              "      <td>0</td>\n",
              "      <td>67.00</td>\n",
              "      <td>0</td>\n",
              "      <td>1</td>\n",
              "      <td>0</td>\n",
              "      <td>0</td>\n",
              "      <td>0</td>\n",
              "      <td>1</td>\n",
              "      <td>0</td>\n",
              "      <td>0</td>\n",
              "      <td>0</td>\n",
              "      <td>0</td>\n",
              "      <td>0</td>\n",
              "      <td>1</td>\n",
              "      <td>0</td>\n",
              "      <td>0</td>\n",
              "      <td>0</td>\n",
              "      <td>1</td>\n",
              "      <td>0</td>\n",
              "      <td>0</td>\n",
              "      <td>1</td>\n",
              "      <td>0</td>\n",
              "    </tr>\n",
              "    <tr>\n",
              "      <th>1274</th>\n",
              "      <td>1.118034</td>\n",
              "      <td>0.707107</td>\n",
              "      <td>1</td>\n",
              "      <td>0</td>\n",
              "      <td>0.00</td>\n",
              "      <td>2013</td>\n",
              "      <td>0</td>\n",
              "      <td>5</td>\n",
              "      <td>1</td>\n",
              "      <td>59.99</td>\n",
              "      <td>0</td>\n",
              "      <td>1</td>\n",
              "      <td>0</td>\n",
              "      <td>0</td>\n",
              "      <td>0</td>\n",
              "      <td>1</td>\n",
              "      <td>0</td>\n",
              "      <td>0</td>\n",
              "      <td>0</td>\n",
              "      <td>0</td>\n",
              "      <td>0</td>\n",
              "      <td>0</td>\n",
              "      <td>1</td>\n",
              "      <td>0</td>\n",
              "      <td>1</td>\n",
              "      <td>0</td>\n",
              "      <td>0</td>\n",
              "      <td>1</td>\n",
              "      <td>0</td>\n",
              "      <td>0</td>\n",
              "    </tr>\n",
              "    <tr>\n",
              "      <th>8918</th>\n",
              "      <td>1.322876</td>\n",
              "      <td>0.707107</td>\n",
              "      <td>2</td>\n",
              "      <td>1</td>\n",
              "      <td>3.77</td>\n",
              "      <td>2009</td>\n",
              "      <td>0</td>\n",
              "      <td>2</td>\n",
              "      <td>0</td>\n",
              "      <td>101.35</td>\n",
              "      <td>0</td>\n",
              "      <td>1</td>\n",
              "      <td>0</td>\n",
              "      <td>0</td>\n",
              "      <td>0</td>\n",
              "      <td>1</td>\n",
              "      <td>0</td>\n",
              "      <td>0</td>\n",
              "      <td>0</td>\n",
              "      <td>0</td>\n",
              "      <td>0</td>\n",
              "      <td>0</td>\n",
              "      <td>1</td>\n",
              "      <td>0</td>\n",
              "      <td>0</td>\n",
              "      <td>1</td>\n",
              "      <td>0</td>\n",
              "      <td>0</td>\n",
              "      <td>1</td>\n",
              "      <td>0</td>\n",
              "    </tr>\n",
              "    <tr>\n",
              "      <th>7854</th>\n",
              "      <td>1.352775</td>\n",
              "      <td>1.224745</td>\n",
              "      <td>1</td>\n",
              "      <td>0</td>\n",
              "      <td>3.00</td>\n",
              "      <td>2012</td>\n",
              "      <td>0</td>\n",
              "      <td>3</td>\n",
              "      <td>4</td>\n",
              "      <td>111.68</td>\n",
              "      <td>0</td>\n",
              "      <td>1</td>\n",
              "      <td>0</td>\n",
              "      <td>0</td>\n",
              "      <td>0</td>\n",
              "      <td>1</td>\n",
              "      <td>0</td>\n",
              "      <td>0</td>\n",
              "      <td>0</td>\n",
              "      <td>0</td>\n",
              "      <td>0</td>\n",
              "      <td>0</td>\n",
              "      <td>1</td>\n",
              "      <td>0</td>\n",
              "      <td>1</td>\n",
              "      <td>0</td>\n",
              "      <td>0</td>\n",
              "      <td>0</td>\n",
              "      <td>1</td>\n",
              "      <td>0</td>\n",
              "    </tr>\n",
              "    <tr>\n",
              "      <th>10369</th>\n",
              "      <td>1.352775</td>\n",
              "      <td>1.224745</td>\n",
              "      <td>1</td>\n",
              "      <td>0</td>\n",
              "      <td>3.26</td>\n",
              "      <td>2013</td>\n",
              "      <td>0</td>\n",
              "      <td>8</td>\n",
              "      <td>0</td>\n",
              "      <td>93.55</td>\n",
              "      <td>0</td>\n",
              "      <td>1</td>\n",
              "      <td>0</td>\n",
              "      <td>0</td>\n",
              "      <td>0</td>\n",
              "      <td>1</td>\n",
              "      <td>0</td>\n",
              "      <td>0</td>\n",
              "      <td>0</td>\n",
              "      <td>0</td>\n",
              "      <td>0</td>\n",
              "      <td>0</td>\n",
              "      <td>1</td>\n",
              "      <td>0</td>\n",
              "      <td>0</td>\n",
              "      <td>1</td>\n",
              "      <td>0</td>\n",
              "      <td>0</td>\n",
              "      <td>1</td>\n",
              "      <td>0</td>\n",
              "    </tr>\n",
              "  </tbody>\n",
              "</table>\n",
              "</div>"
            ],
            "text/plain": [
              "       job_duration_in_current_job_level  ...  Education_level_level_5\n",
              "9968                            1.224745  ...                        0\n",
              "1274                            1.118034  ...                        0\n",
              "8918                            1.322876  ...                        0\n",
              "7854                            1.352775  ...                        0\n",
              "10369                           1.352775  ...                        0\n",
              "\n",
              "[5 rows x 30 columns]"
            ]
          },
          "metadata": {
            "tags": []
          },
          "execution_count": 189
        }
      ]
    },
    {
      "cell_type": "markdown",
      "metadata": {
        "id": "kUFfI0HfXjkH"
      },
      "source": [
        "##Model"
      ]
    },
    {
      "cell_type": "markdown",
      "metadata": {
        "id": "yJRheSdwXtc6"
      },
      "source": [
        "###Split data, dengan data yang akan ditrain sebesar 70%, dan data yang ditest sebesar 30%"
      ]
    },
    {
      "cell_type": "code",
      "metadata": {
        "id": "CwZ9-kxtXhDU"
      },
      "source": [
        "from sklearn.model_selection import train_test_split\r\n",
        "x_train, x_test, y_train, y_test = train_test_split(X, Y, test_size=0.3, random_state=0)"
      ],
      "execution_count": null,
      "outputs": []
    },
    {
      "cell_type": "markdown",
      "metadata": {
        "id": "2We573AoX3RR"
      },
      "source": [
        "###Standar Scaller\r\n",
        "Agar rentang data tidak terlalu jauh maka perlu dilakukan standar scaller"
      ]
    },
    {
      "cell_type": "code",
      "metadata": {
        "colab": {
          "base_uri": "https://localhost:8080/"
        },
        "id": "i0pfY-WLYLY8",
        "outputId": "8e6c2380-7cb9-4567-9f41-8a193ea5816f"
      },
      "source": [
        "from sklearn.preprocessing import StandardScaler\r\n",
        "\r\n",
        "sc_X = StandardScaler()\r\n",
        "x_train[num_col] = sc_X.fit_transform(x_train[num_col].copy())\r\n",
        "x_test[num_col] = sc_X.transform(x_test[num_col].copy())"
      ],
      "execution_count": null,
      "outputs": [
        {
          "output_type": "stream",
          "text": [
            "/usr/local/lib/python3.6/dist-packages/ipykernel_launcher.py:4: SettingWithCopyWarning: \n",
            "A value is trying to be set on a copy of a slice from a DataFrame.\n",
            "Try using .loc[row_indexer,col_indexer] = value instead\n",
            "\n",
            "See the caveats in the documentation: https://pandas.pydata.org/pandas-docs/stable/user_guide/indexing.html#returning-a-view-versus-a-copy\n",
            "  after removing the cwd from sys.path.\n",
            "/usr/local/lib/python3.6/dist-packages/pandas/core/indexing.py:1734: SettingWithCopyWarning: \n",
            "A value is trying to be set on a copy of a slice from a DataFrame.\n",
            "Try using .loc[row_indexer,col_indexer] = value instead\n",
            "\n",
            "See the caveats in the documentation: https://pandas.pydata.org/pandas-docs/stable/user_guide/indexing.html#returning-a-view-versus-a-copy\n",
            "  isetter(loc, value[:, i].tolist())\n",
            "/usr/local/lib/python3.6/dist-packages/ipykernel_launcher.py:5: SettingWithCopyWarning: \n",
            "A value is trying to be set on a copy of a slice from a DataFrame.\n",
            "Try using .loc[row_indexer,col_indexer] = value instead\n",
            "\n",
            "See the caveats in the documentation: https://pandas.pydata.org/pandas-docs/stable/user_guide/indexing.html#returning-a-view-versus-a-copy\n",
            "  \"\"\"\n",
            "/usr/local/lib/python3.6/dist-packages/pandas/core/indexing.py:1734: SettingWithCopyWarning: \n",
            "A value is trying to be set on a copy of a slice from a DataFrame.\n",
            "Try using .loc[row_indexer,col_indexer] = value instead\n",
            "\n",
            "See the caveats in the documentation: https://pandas.pydata.org/pandas-docs/stable/user_guide/indexing.html#returning-a-view-versus-a-copy\n",
            "  isetter(loc, value[:, i].tolist())\n"
          ],
          "name": "stderr"
        }
      ]
    },
    {
      "cell_type": "markdown",
      "metadata": {
        "id": "ZfSkraIZYoJF"
      },
      "source": [
        "##SVM"
      ]
    },
    {
      "cell_type": "code",
      "metadata": {
        "id": "irBkal7WX2wa"
      },
      "source": [
        "from sklearn.svm import SVC\r\n",
        "\r\n",
        "model = SVC()\r\n",
        "model.fit(x_train,y_train)\r\n",
        "prediksi_train = model.predict(x_test)"
      ],
      "execution_count": null,
      "outputs": []
    },
    {
      "cell_type": "markdown",
      "metadata": {
        "id": "d3Dk-ZEUYteE"
      },
      "source": [
        "##Accuracy, Precicion, Recall, and F1-Score"
      ]
    },
    {
      "cell_type": "code",
      "metadata": {
        "colab": {
          "base_uri": "https://localhost:8080/"
        },
        "id": "-MCPZumVYrvz",
        "outputId": "573e02b1-d626-4da7-96dd-e17db21bff2f"
      },
      "source": [
        "from sklearn.metrics import accuracy_score, confusion_matrix, recall_score, precision_score\r\n",
        "\r\n",
        "acc = accuracy_score(prediksi_train, y_test)\r\n",
        "rec = recall_score(prediksi_train, y_test)\r\n",
        "prec = precision_score(prediksi_train, y_test)\r\n",
        "print(\"Confusion Matrix : \\n\", confusion_matrix(prediksi_train, y_test))\r\n",
        "print('Accuracy : ', acc)\r\n",
        "print('Recall : ', rec )\r\n",
        "print('Precission : ', prec)\r\n",
        "\r\n",
        "f1_score = 2*(rec*prec)/(rec+prec) #F1 Score = 2 * (Recall*Precission) / (Recall + Precission)\r\n",
        "print(\"f1-score :\", f1_score)"
      ],
      "execution_count": null,
      "outputs": [
        {
          "output_type": "stream",
          "text": [
            "Confusion Matrix : \n",
            " [[222 161]\n",
            " [289 311]]\n",
            "Accuracy :  0.5422177009155646\n",
            "Recall :  0.5183333333333333\n",
            "Precission :  0.6588983050847458\n",
            "f1-score : 0.5802238805970148\n"
          ],
          "name": "stdout"
        }
      ]
    }
  ]
}